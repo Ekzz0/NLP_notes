{
 "cells": [
  {
   "cell_type": "code",
   "execution_count": 2,
   "metadata": {},
   "outputs": [],
   "source": [
    "import pandas as pd\n",
    "import numpy as np\n",
    "from gensim.models import Word2Vec\n",
    "from sklearn.model_selection import train_test_split\n",
    "from sklearn.linear_model import LogisticRegression\n",
    "from sklearn.metrics import accuracy_score\n",
    "\n",
    "# https://habr.com/ru/companies/ods/articles/329410/"
   ]
  },
  {
   "cell_type": "code",
   "execution_count": 9,
   "metadata": {},
   "outputs": [],
   "source": [
    "df = pd.read_csv('./simpsons_dataset.csv')\n",
    "df = df.dropna().reset_index(drop=True)\n",
    "df.head(1)"
   ]
  },
  {
   "cell_type": "code",
   "execution_count": 23,
   "metadata": {},
   "outputs": [
    {
     "name": "stdout",
     "output_type": "stream",
     "text": [
      "Accuracy: 0.4984831631105269\n"
     ]
    }
   ],
   "source": [
    "# Предположим, что у вас есть данные: texts - список текстов, содержащих слова, и numerical_features - массив числовых признаков\n",
    "numerical_features = list(range(len(df)))\n",
    "\n",
    "# Создаем модель Word2Vec на основе текстов\n",
    "word2vec_model = Word2Vec(df.spoken_words, vector_size=100, window=5, min_count=1, workers=4)\n",
    "\n",
    "# Создаем функцию для преобразования каждого текста в его векторное представление с использованием Word2Vec\n",
    "def text_to_vector(text):\n",
    "    words = text.split()\n",
    "    vector = np.zeros(word2vec_model.vector_size)\n",
    "    for word in words:\n",
    "        if word in word2vec_model.wv:\n",
    "            vector += word2vec_model.wv[word]\n",
    "    return vector / len(words)\n",
    "\n",
    "# Преобразуем каждый текст в его векторное представление с использованием Word2Vec\n",
    "text_vectors = np.array([text_to_vector(text) for text in df.spoken_words])\n",
    "\n",
    "\n",
    "\n",
    "y = np.array([1 if i % 2 == 0 else 0 for i in range(len(df))])\n",
    "numerical_features = np.array(numerical_features).reshape(-1, 1)\n",
    "\n",
    "# Объединяем векторные представления текстов с числовыми признаками\n",
    "X = pd.concatenate((text_vectors, numerical_features), axis=1)\n",
    "\n",
    "# Предположим, у вас есть метки классов в переменной y\n",
    "\n",
    "# Разделяем данные на обучающий и тестовый наборы\n",
    "X_train, X_test, y_train, y_test = train_test_split(X, y, test_size=0.3, random_state=42)\n",
    "\n",
    "# Обучаем модель классификации (например, логистическую регрессию)\n",
    "model = LogisticRegression()\n",
    "model.fit(X_train, y_train)\n",
    "\n",
    "# Предсказываем метки классов для тестового набора\n",
    "y_pred = model.predict(X_test)\n",
    "\n",
    "# Оцениваем точность модели\n",
    "accuracy = accuracy_score(y_test, y_pred)\n",
    "print(\"Accuracy:\", accuracy)\n"
   ]
  },
  {
   "cell_type": "markdown",
   "metadata": {},
   "source": [
    "## Bert:"
   ]
  },
  {
   "cell_type": "code",
   "execution_count": 1,
   "metadata": {},
   "outputs": [
    {
     "ename": "ModuleNotFoundError",
     "evalue": "No module named 'torch'",
     "output_type": "error",
     "traceback": [
      "\u001b[1;31m---------------------------------------------------------------------------\u001b[0m",
      "\u001b[1;31mModuleNotFoundError\u001b[0m                       Traceback (most recent call last)",
      "Cell \u001b[1;32mIn[1], line 1\u001b[0m\n\u001b[1;32m----> 1\u001b[0m \u001b[38;5;28;01mimport\u001b[39;00m \u001b[38;5;21;01mtorch\u001b[39;00m\n\u001b[0;32m      2\u001b[0m \u001b[38;5;28;01mfrom\u001b[39;00m \u001b[38;5;21;01mtransformers\u001b[39;00m \u001b[38;5;28;01mimport\u001b[39;00m BertModel, BertTokenizer\n\u001b[0;32m      3\u001b[0m \u001b[38;5;28;01mimport\u001b[39;00m \u001b[38;5;21;01mnumpy\u001b[39;00m \u001b[38;5;28;01mas\u001b[39;00m \u001b[38;5;21;01mnp\u001b[39;00m\n",
      "\u001b[1;31mModuleNotFoundError\u001b[0m: No module named 'torch'"
     ]
    }
   ],
   "source": [
    "import torch\n",
    "from transformers import BertModel, BertTokenizer\n",
    "import numpy as np\n",
    "\n",
    "# Загрузка предварительно обученного токенизатора и модели BERT\n",
    "tokenizer = BertTokenizer.from_pretrained('bert-base-uncased')\n",
    "model = BertModel.from_pretrained('bert-base-uncased')\n",
    "\n",
    "# Пример текстовых данных\n",
    "texts = [\"Пример текста 1\", \"Еще один пример текста\", \"Текст номер три\"]\n",
    "\n",
    "# Пример числовых признаков\n",
    "numeric_features = np.array([[1, 2, 3], [4, 5, 6], [7, 8, 9]])\n",
    "\n",
    "# Получение векторных представлений для текстовых данных\n",
    "embeddings = []\n",
    "for text in texts:\n",
    "    tokens = tokenizer(text, padding=True, truncation=True, return_tensors=\"pt\")\n",
    "    with torch.no_grad():\n",
    "        outputs = model(**tokens)\n",
    "    text_embedding = outputs.last_hidden_state.mean(dim=1).squeeze().numpy()\n",
    "    embeddings.append(text_embedding)\n",
    "\n",
    "# Преобразование списка векторных представлений в массив NumPy\n",
    "text_embeddings = np.array(embeddings)\n",
    "\n",
    "# Соединение векторных представлений с числовыми признаками\n",
    "combined_features = np.concatenate((text_embeddings, numeric_features), axis=1)\n",
    "\n",
    "print(combined_features)\n"
   ]
  },
  {
   "cell_type": "code",
   "execution_count": 14,
   "metadata": {},
   "outputs": [],
   "source": []
  },
  {
   "cell_type": "code",
   "execution_count": null,
   "metadata": {},
   "outputs": [],
   "source": []
  }
 ],
 "metadata": {
  "kernelspec": {
   "display_name": "venv",
   "language": "python",
   "name": "python3"
  },
  "language_info": {
   "codemirror_mode": {
    "name": "ipython",
    "version": 3
   },
   "file_extension": ".py",
   "mimetype": "text/x-python",
   "name": "python",
   "nbconvert_exporter": "python",
   "pygments_lexer": "ipython3",
   "version": "3.11.0"
  }
 },
 "nbformat": 4,
 "nbformat_minor": 2
}
